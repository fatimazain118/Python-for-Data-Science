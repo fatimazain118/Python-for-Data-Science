{
  "nbformat": 4,
  "nbformat_minor": 0,
  "metadata": {
    "colab": {
      "name": "NumPyyy.ipynb",
      "provenance": [],
      "authorship_tag": "ABX9TyOZGeobBiCqy32viPuHQQM6",
      "include_colab_link": true
    },
    "kernelspec": {
      "name": "python3",
      "display_name": "Python 3"
    },
    "language_info": {
      "name": "python"
    }
  },
  "cells": [
    {
      "cell_type": "markdown",
      "metadata": {
        "id": "view-in-github",
        "colab_type": "text"
      },
      "source": [
        "<a href=\"https://colab.research.google.com/github/fatimazain118/Python-for-Data-Science/blob/main/NumPyyy.ipynb\" target=\"_parent\"><img src=\"https://colab.research.google.com/assets/colab-badge.svg\" alt=\"Open In Colab\"/></a>"
      ]
    },
    {
      "cell_type": "code",
      "metadata": {
        "colab": {
          "base_uri": "https://localhost:8080/"
        },
        "id": "VMnrq5LcR_Df",
        "outputId": "c7a2691b-9c5d-459c-8dc1-9ccbd789c407"
      },
      "source": [
        "#creating array\n",
        "import numpy as np\n",
        "l1=[10,20,30,40]\n",
        "n= np.array(l1)\n",
        "n"
      ],
      "execution_count": null,
      "outputs": [
        {
          "output_type": "execute_result",
          "data": {
            "text/plain": [
              "array([10, 20, 30, 40])"
            ]
          },
          "metadata": {},
          "execution_count": 2
        }
      ]
    },
    {
      "cell_type": "code",
      "metadata": {
        "colab": {
          "base_uri": "https://localhost:8080/"
        },
        "id": "BM8WKoEpTKjs",
        "outputId": "57eec511-5ca9-4185-8b31-3ec377ae6406"
      },
      "source": [
        "type(n)"
      ],
      "execution_count": null,
      "outputs": [
        {
          "output_type": "execute_result",
          "data": {
            "text/plain": [
              "numpy.ndarray"
            ]
          },
          "metadata": {},
          "execution_count": 3
        }
      ]
    },
    {
      "cell_type": "code",
      "metadata": {
        "colab": {
          "base_uri": "https://localhost:8080/"
        },
        "id": "jhI--ihJSnyV",
        "outputId": "b7115bcd-cec0-4b5c-a942-3169dceab7ce"
      },
      "source": [
        "#creating multi-dimension array\n",
        "\n",
        "import numpy as np\n",
        "n1= np.array([(1,2,3),(4,5,6)])  #using tuple\n",
        "n1"
      ],
      "execution_count": null,
      "outputs": [
        {
          "output_type": "execute_result",
          "data": {
            "text/plain": [
              "array([[1, 2, 3],\n",
              "       [4, 5, 6]])"
            ]
          },
          "metadata": {},
          "execution_count": 4
        }
      ]
    },
    {
      "cell_type": "code",
      "metadata": {
        "colab": {
          "base_uri": "https://localhost:8080/"
        },
        "id": "4i5Lu8nKSLYQ",
        "outputId": "7dfd9120-be5b-465f-96a7-16719b2a6bee"
      },
      "source": [
        "type(n1)"
      ],
      "execution_count": null,
      "outputs": [
        {
          "output_type": "execute_result",
          "data": {
            "text/plain": [
              "numpy.ndarray"
            ]
          },
          "metadata": {},
          "execution_count": 5
        }
      ]
    },
    {
      "cell_type": "code",
      "metadata": {
        "colab": {
          "base_uri": "https://localhost:8080/"
        },
        "id": "GE5edKxSSYgb",
        "outputId": "bf8f8d8c-901e-47cf-c814-e844a5ff5544"
      },
      "source": [
        "n2 = np.array([[2,34,3],[2,67,8]])  #using list\n",
        "n2"
      ],
      "execution_count": null,
      "outputs": [
        {
          "output_type": "execute_result",
          "data": {
            "text/plain": [
              "array([[ 2, 34,  3],\n",
              "       [ 2, 67,  8]])"
            ]
          },
          "metadata": {},
          "execution_count": 6
        }
      ]
    },
    {
      "cell_type": "code",
      "metadata": {
        "colab": {
          "base_uri": "https://localhost:8080/"
        },
        "id": "GttZh7n5TczD",
        "outputId": "cc6ced8a-89f9-425d-a33c-b8c7833dd78d"
      },
      "source": [
        "type(n2)"
      ],
      "execution_count": null,
      "outputs": [
        {
          "output_type": "execute_result",
          "data": {
            "text/plain": [
              "numpy.ndarray"
            ]
          },
          "metadata": {},
          "execution_count": 7
        }
      ]
    },
    {
      "cell_type": "code",
      "metadata": {
        "colab": {
          "base_uri": "https://localhost:8080/"
        },
        "id": "BB-Y4jpVV_L-",
        "outputId": "a6ed87ef-c84e-4421-95e3-624407747eb7"
      },
      "source": [
        "n2.ndim   #checking dimensions of an array"
      ],
      "execution_count": null,
      "outputs": [
        {
          "output_type": "execute_result",
          "data": {
            "text/plain": [
              "2"
            ]
          },
          "metadata": {},
          "execution_count": 8
        }
      ]
    },
    {
      "cell_type": "code",
      "metadata": {
        "colab": {
          "base_uri": "https://localhost:8080/"
        },
        "id": "zVGk4BA5WGoQ",
        "outputId": "e0173f37-1cfc-4b8d-b07c-d8e3fc9330bf"
      },
      "source": [
        "n.ndim"
      ],
      "execution_count": null,
      "outputs": [
        {
          "output_type": "execute_result",
          "data": {
            "text/plain": [
              "1"
            ]
          },
          "metadata": {},
          "execution_count": 9
        }
      ]
    },
    {
      "cell_type": "code",
      "metadata": {
        "colab": {
          "base_uri": "https://localhost:8080/"
        },
        "id": "_Fk6f92LZGm0",
        "outputId": "9cd23953-62ca-4a29-d92f-37f25222da4f"
      },
      "source": [
        "n2.shape   #tells no. of rows and column"
      ],
      "execution_count": null,
      "outputs": [
        {
          "output_type": "execute_result",
          "data": {
            "text/plain": [
              "(2, 3)"
            ]
          },
          "metadata": {},
          "execution_count": 10
        }
      ]
    },
    {
      "cell_type": "code",
      "metadata": {
        "colab": {
          "base_uri": "https://localhost:8080/"
        },
        "id": "InlR2w6CZWZh",
        "outputId": "17a84228-a484-40db-a80a-6a78bc91447d"
      },
      "source": [
        "#to change the shape of an array, no. of elements remains same\n",
        "n2.shape = (3,2)\n",
        "n2.shape"
      ],
      "execution_count": null,
      "outputs": [
        {
          "output_type": "execute_result",
          "data": {
            "text/plain": [
              "(3, 2)"
            ]
          },
          "metadata": {},
          "execution_count": 11
        }
      ]
    },
    {
      "cell_type": "code",
      "metadata": {
        "colab": {
          "base_uri": "https://localhost:8080/"
        },
        "id": "rgrc8g3TZ3ci",
        "outputId": "de1bb28f-dbd1-42e5-f944-014c17cbf9d9"
      },
      "source": [
        "n2"
      ],
      "execution_count": null,
      "outputs": [
        {
          "output_type": "execute_result",
          "data": {
            "text/plain": [
              "array([[ 2, 34],\n",
              "       [ 3,  2],\n",
              "       [67,  8]])"
            ]
          },
          "metadata": {},
          "execution_count": 12
        }
      ]
    },
    {
      "cell_type": "code",
      "metadata": {
        "colab": {
          "base_uri": "https://localhost:8080/"
        },
        "id": "9XNAJfY9a42-",
        "outputId": "94aa7635-e734-4982-e2e0-f22acf3e0ae2"
      },
      "source": [
        "#Joining NumPy arrays\n",
        "#using vstack() (vertical stack)\n",
        "n8 = np.array([2,3,4])\n",
        "n9= np.array([2,6,7])\n",
        "np.vstack((n8,n9))\n"
      ],
      "execution_count": null,
      "outputs": [
        {
          "output_type": "execute_result",
          "data": {
            "text/plain": [
              "array([[2, 3, 4],\n",
              "       [2, 6, 7]])"
            ]
          },
          "metadata": {},
          "execution_count": 13
        }
      ]
    },
    {
      "cell_type": "code",
      "metadata": {
        "colab": {
          "base_uri": "https://localhost:8080/"
        },
        "id": "kRQiN4RPbz40",
        "outputId": "740f0928-6417-4800-b934-8c52271971d9"
      },
      "source": [
        "#hstack() horizontal stack\n",
        "\n",
        "np.hstack((n8,n9))"
      ],
      "execution_count": null,
      "outputs": [
        {
          "output_type": "execute_result",
          "data": {
            "text/plain": [
              "array([2, 3, 4, 2, 6, 7])"
            ]
          },
          "metadata": {},
          "execution_count": 14
        }
      ]
    },
    {
      "cell_type": "code",
      "metadata": {
        "colab": {
          "base_uri": "https://localhost:8080/"
        },
        "id": "mz0QCDhocMTo",
        "outputId": "aed7993f-1fa9-40dd-c6e5-5f2720fc74bf"
      },
      "source": [
        "#column_stack()\n",
        "\n",
        "np.column_stack((n8,n9))"
      ],
      "execution_count": null,
      "outputs": [
        {
          "output_type": "execute_result",
          "data": {
            "text/plain": [
              "array([[2, 2],\n",
              "       [3, 6],\n",
              "       [4, 7]])"
            ]
          },
          "metadata": {},
          "execution_count": 15
        }
      ]
    },
    {
      "cell_type": "code",
      "metadata": {
        "colab": {
          "base_uri": "https://localhost:8080/"
        },
        "id": "bXSqobe7WK7T",
        "outputId": "0e03d21a-3dc7-4674-81b0-14f937f531bd"
      },
      "source": [
        "#Initializing Numpy array with zeros later we can fill to it\n",
        "\n",
        "n3= np.zeros((2,2))\n",
        "n3"
      ],
      "execution_count": null,
      "outputs": [
        {
          "output_type": "execute_result",
          "data": {
            "text/plain": [
              "array([[0., 0.],\n",
              "       [0., 0.]])"
            ]
          },
          "metadata": {},
          "execution_count": 16
        }
      ]
    },
    {
      "cell_type": "code",
      "metadata": {
        "colab": {
          "base_uri": "https://localhost:8080/"
        },
        "id": "H2Qf4M6hWy4x",
        "outputId": "c34e307b-b18d-4aa6-94d8-893df8e97dd2"
      },
      "source": [
        "type(n3)"
      ],
      "execution_count": null,
      "outputs": [
        {
          "output_type": "execute_result",
          "data": {
            "text/plain": [
              "numpy.ndarray"
            ]
          },
          "metadata": {},
          "execution_count": 17
        }
      ]
    },
    {
      "cell_type": "code",
      "metadata": {
        "colab": {
          "base_uri": "https://localhost:8080/"
        },
        "id": "Gq4UVZghW17K",
        "outputId": "4bdd48e5-a3c5-4751-9332-01536b449011"
      },
      "source": [
        "#Initializing Numpy array with same number\n",
        "n4= np.full((2,2),10)   #10 will be filled in both rows and column\n",
        "n4"
      ],
      "execution_count": null,
      "outputs": [
        {
          "output_type": "execute_result",
          "data": {
            "text/plain": [
              "array([[10, 10],\n",
              "       [10, 10]])"
            ]
          },
          "metadata": {},
          "execution_count": 18
        }
      ]
    },
    {
      "cell_type": "code",
      "metadata": {
        "colab": {
          "base_uri": "https://localhost:8080/"
        },
        "id": "FqdC5lKuXTdl",
        "outputId": "641b5d9d-d6cb-4b63-a14f-6bb491e95348"
      },
      "source": [
        "#Initializing NumPy array within a range\n",
        "n5 = np.arange(5,11)\n",
        "n5\n"
      ],
      "execution_count": null,
      "outputs": [
        {
          "output_type": "execute_result",
          "data": {
            "text/plain": [
              "array([ 5,  6,  7,  8,  9, 10])"
            ]
          },
          "metadata": {},
          "execution_count": 19
        }
      ]
    },
    {
      "cell_type": "code",
      "metadata": {
        "colab": {
          "base_uri": "https://localhost:8080/"
        },
        "id": "3-t1SjkAX0DZ",
        "outputId": "363c7365-a94b-4b27-dadc-fb96ff51eddb"
      },
      "source": [
        "#to want speciafic gap between no.\n",
        "n6= np.arange(2,21,2)  #table of 2\n",
        "n6"
      ],
      "execution_count": null,
      "outputs": [
        {
          "output_type": "execute_result",
          "data": {
            "text/plain": [
              "array([ 2,  4,  6,  8, 10, 12, 14, 16, 18, 20])"
            ]
          },
          "metadata": {},
          "execution_count": 20
        }
      ]
    },
    {
      "cell_type": "code",
      "metadata": {
        "colab": {
          "base_uri": "https://localhost:8080/"
        },
        "id": "vuOh-H06YOa7",
        "outputId": "0fa84fbc-8ec6-46ab-9d4a-3b01692f9471"
      },
      "source": [
        "#Initializing NumPy array with random numbers\n",
        "n7 = np.random.randint(1,100,5)  #[1,100) tk 5 random no.\n",
        "n7"
      ],
      "execution_count": null,
      "outputs": [
        {
          "output_type": "execute_result",
          "data": {
            "text/plain": [
              "array([37, 82, 98, 16, 24])"
            ]
          },
          "metadata": {},
          "execution_count": 21
        }
      ]
    },
    {
      "cell_type": "code",
      "metadata": {
        "colab": {
          "base_uri": "https://localhost:8080/"
        },
        "id": "ExExfX0NY9um",
        "outputId": "14dbe257-2e17-40cb-c69f-57d3588d7e16"
      },
      "source": [
        "#NumPy Intersection & Difference\n",
        "n10 = np.array([1,2,3,4,5])\n",
        "n11= np.array([3,2,4,8,9])\n",
        "np.intersect1d(n10,n11)"
      ],
      "execution_count": null,
      "outputs": [
        {
          "output_type": "execute_result",
          "data": {
            "text/plain": [
              "array([2, 3, 4])"
            ]
          },
          "metadata": {},
          "execution_count": 22
        }
      ]
    },
    {
      "cell_type": "code",
      "metadata": {
        "colab": {
          "base_uri": "https://localhost:8080/"
        },
        "id": "px0U4u7IfXLt",
        "outputId": "14a98e47-a184-4fab-b09e-cd7010170883"
      },
      "source": [
        "np.setdiff1d(n10,n11)"
      ],
      "execution_count": null,
      "outputs": [
        {
          "output_type": "execute_result",
          "data": {
            "text/plain": [
              "array([1, 5])"
            ]
          },
          "metadata": {},
          "execution_count": 23
        }
      ]
    },
    {
      "cell_type": "code",
      "metadata": {
        "colab": {
          "base_uri": "https://localhost:8080/"
        },
        "id": "upsHwWGKfhTb",
        "outputId": "e0b8fff5-96a4-407e-f4e8-39a549010635"
      },
      "source": [
        "np.setdiff1d(n11,n10)  #n11-n10"
      ],
      "execution_count": null,
      "outputs": [
        {
          "output_type": "execute_result",
          "data": {
            "text/plain": [
              "array([8, 9])"
            ]
          },
          "metadata": {},
          "execution_count": 24
        }
      ]
    },
    {
      "cell_type": "code",
      "metadata": {
        "colab": {
          "base_uri": "https://localhost:8080/"
        },
        "id": "mY2aOaitfwRy",
        "outputId": "a3d2ad70-ab10-4821-ac40-b883315c1bac"
      },
      "source": [
        "#Addition of NumPy arrays\n",
        "np.sum([n10,n11])     #total sum of both array"
      ],
      "execution_count": null,
      "outputs": [
        {
          "output_type": "execute_result",
          "data": {
            "text/plain": [
              "41"
            ]
          },
          "metadata": {},
          "execution_count": 25
        }
      ]
    },
    {
      "cell_type": "code",
      "metadata": {
        "colab": {
          "base_uri": "https://localhost:8080/"
        },
        "id": "zkWR_Kqngo-b",
        "outputId": "cae9c151-e77e-4139-aabd-bacc242c504a"
      },
      "source": [
        "np.sum([n10,n11],axis = 0)  #addition with respect to column"
      ],
      "execution_count": null,
      "outputs": [
        {
          "output_type": "execute_result",
          "data": {
            "text/plain": [
              "array([ 4,  4,  7, 12, 14])"
            ]
          },
          "metadata": {},
          "execution_count": 26
        }
      ]
    },
    {
      "cell_type": "code",
      "metadata": {
        "colab": {
          "base_uri": "https://localhost:8080/"
        },
        "id": "bPQyLie5g05b",
        "outputId": "63e762f9-939a-40a6-af48-99ef6808f4ec"
      },
      "source": [
        "np.sum([n10,n11], axis = 1)  #addition with respect to rows"
      ],
      "execution_count": null,
      "outputs": [
        {
          "output_type": "execute_result",
          "data": {
            "text/plain": [
              "array([15, 26])"
            ]
          },
          "metadata": {},
          "execution_count": 27
        }
      ]
    },
    {
      "cell_type": "code",
      "metadata": {
        "colab": {
          "base_uri": "https://localhost:8080/"
        },
        "id": "ayfJVqT0hPQz",
        "outputId": "97f27e4a-ec7f-4b0b-b1ec-357a101c8714"
      },
      "source": [
        "#NumPy Array Mathmatics\n",
        "\n",
        "n12= np.array([10,20,30])\n",
        "n12 = n12+1                 #adding 1 to all elements in the array\n",
        "n12"
      ],
      "execution_count": null,
      "outputs": [
        {
          "output_type": "execute_result",
          "data": {
            "text/plain": [
              "array([11, 21, 31])"
            ]
          },
          "metadata": {},
          "execution_count": 28
        }
      ]
    },
    {
      "cell_type": "code",
      "metadata": {
        "colab": {
          "base_uri": "https://localhost:8080/"
        },
        "id": "LQQx06HMh_GM",
        "outputId": "bab5c605-dd70-4384-a16e-9732ce02dba8"
      },
      "source": [
        "p = np.array([1,2,3])\n",
        "p = p*2\n",
        "p"
      ],
      "execution_count": null,
      "outputs": [
        {
          "output_type": "execute_result",
          "data": {
            "text/plain": [
              "array([2, 4, 6])"
            ]
          },
          "metadata": {},
          "execution_count": 29
        }
      ]
    },
    {
      "cell_type": "code",
      "metadata": {
        "colab": {
          "base_uri": "https://localhost:8080/"
        },
        "id": "lcTCeOEeilBz",
        "outputId": "31114dc0-c868-4584-abde-f3fa2424ae88"
      },
      "source": [
        "p=p-1\n",
        "p"
      ],
      "execution_count": null,
      "outputs": [
        {
          "output_type": "execute_result",
          "data": {
            "text/plain": [
              "array([1, 3, 5])"
            ]
          },
          "metadata": {},
          "execution_count": 30
        }
      ]
    },
    {
      "cell_type": "code",
      "metadata": {
        "colab": {
          "base_uri": "https://localhost:8080/"
        },
        "id": "SAkZaYYyiqX1",
        "outputId": "352dee8d-7d90-4dba-f151-44630b699ea5"
      },
      "source": [
        "q = np.array([10,20,30])\n",
        "q= q/2\n",
        "q"
      ],
      "execution_count": null,
      "outputs": [
        {
          "output_type": "execute_result",
          "data": {
            "text/plain": [
              "array([ 5., 10., 15.])"
            ]
          },
          "metadata": {},
          "execution_count": 31
        }
      ]
    },
    {
      "cell_type": "code",
      "metadata": {
        "colab": {
          "base_uri": "https://localhost:8080/"
        },
        "id": "sUa9PS0Fi24e",
        "outputId": "ab957cb0-7824-4569-b52e-71f611281ef6"
      },
      "source": [
        "#NumPy math function\n",
        "\n",
        "n13 = np.array([1,2,3,4])\n",
        "np.mean(n13)"
      ],
      "execution_count": null,
      "outputs": [
        {
          "output_type": "execute_result",
          "data": {
            "text/plain": [
              "2.5"
            ]
          },
          "metadata": {},
          "execution_count": 32
        }
      ]
    },
    {
      "cell_type": "code",
      "metadata": {
        "colab": {
          "base_uri": "https://localhost:8080/"
        },
        "id": "vFKRd05fiGf_",
        "outputId": "67af3f8f-1c8b-4260-b228-3164f6a4f4be"
      },
      "source": [
        "n14= np.array([11,44,5,96,67,85])\n",
        "np.median(n14)"
      ],
      "execution_count": null,
      "outputs": [
        {
          "output_type": "execute_result",
          "data": {
            "text/plain": [
              "55.5"
            ]
          },
          "metadata": {},
          "execution_count": 33
        }
      ]
    },
    {
      "cell_type": "code",
      "metadata": {
        "colab": {
          "base_uri": "https://localhost:8080/"
        },
        "id": "B3FpGayVkexo",
        "outputId": "f9d99a27-c7a1-4e62-8199-251c6dcfa2ab"
      },
      "source": [
        "np.std(n14)     #standard deviation"
      ],
      "execution_count": null,
      "outputs": [
        {
          "output_type": "execute_result",
          "data": {
            "text/plain": [
              "34.644223504391356"
            ]
          },
          "metadata": {},
          "execution_count": 34
        }
      ]
    },
    {
      "cell_type": "code",
      "metadata": {
        "id": "K3LedbYpkoz8"
      },
      "source": [
        "#NumPy save and Load\n",
        "n15= np.array([10,20,30,40,50,60])\n",
        "np.save('my_numpy',n15)"
      ],
      "execution_count": null,
      "outputs": []
    },
    {
      "cell_type": "code",
      "metadata": {
        "colab": {
          "base_uri": "https://localhost:8080/"
        },
        "id": "u5pjcVcxlBBO",
        "outputId": "39dfa3a9-25f8-4e79-c94f-70532af94fdb"
      },
      "source": [
        "n16= np.load('my_numpy.npy')  #.npy numpy array\n",
        "n16"
      ],
      "execution_count": null,
      "outputs": [
        {
          "output_type": "execute_result",
          "data": {
            "text/plain": [
              "array([10, 20, 30, 40, 50, 60])"
            ]
          },
          "metadata": {},
          "execution_count": 36
        }
      ]
    }
  ]
}